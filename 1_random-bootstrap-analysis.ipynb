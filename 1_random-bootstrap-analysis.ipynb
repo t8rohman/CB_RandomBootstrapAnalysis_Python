{
 "cells": [
  {
   "cell_type": "code",
   "execution_count": 8,
   "metadata": {},
   "outputs": [],
   "source": [
    "import pandas as pd\n",
    "import numpy as np\n",
    "import statsmodels.formula.api as smf  # To calculate the logit regression\n",
    "from statsmodels.formula.api import ols\n",
    "import matplotlib.pyplot as plt\n",
    "import seaborn as sns\n",
    "import math\n",
    "\n",
    "import statsmodels.stats.proportion as ssprop  # The standardized effects sized\n",
    "import statsmodels.stats.power as ssp   # For traditional power analysis"
   ]
  },
  {
   "cell_type": "markdown",
   "metadata": {},
   "source": []
  },
  {
   "cell_type": "markdown",
   "metadata": {},
   "source": [
    "## Business Case\n",
    "\n",
    "This is the business case of a fictional company, AirCnC. The management of AirCnC has determined that adding a \"1-click booking\" button will significantly increase the company's booking rate. In this business case, there will be 3 steps in conducting the experiment:\n",
    "\n",
    "1. Randomization the assignment of the treatment and control to the user ID\n",
    "2. Determining the sample size of the experiment\n",
    "\n",
    "And let's say, if we already conducted the experiment and have the data, the last one is:\n",
    "\n",
    "3. Analyzing the result using traditional regression and bootstrap simulation\n",
    "\n",
    "This business case is taken from **Behavioral Data Analysis with R and Python (2021) written by Florent Buisson**."
   ]
  },
  {
   "cell_type": "markdown",
   "metadata": {},
   "source": [
    "### Theory of Change\n",
    "\n",
    "Implementing a **1-click booking button** (intervention) will help us achieve **higher revenue**, as measured by **booking probability**, through **a reduction in the duration of the booking process**."
   ]
  },
  {
   "cell_type": "markdown",
   "metadata": {},
   "source": [
    "### Data\n",
    "\n",
    "There are two CSV files for this case: \"chap8-historical_data.csv\" and \"chap8-experimental_data.csv\". The historical data will be used to assign the user ID whether they will fall in treatment or control group. Whereas for experimental, it's a hypothetical data when we already have the data and used to run the experiment and analysis. The column contains:\n",
    "\n",
    "- **Gender** : Categorical, “male”/ “female”\n",
    "- **Period** : Month index, 1-32 in historical data, 33 in experimental data\n",
    "- **Seasonality** : Annual seasonality, between 0 and 1\n",
    "- **Month** : Month of year, 1-12\n",
    "- **Booked** : Binary 0/1, target variable\n",
    "- **Oneclick** : Binary 0/1, experimental treatment (only in experimental data)\n",
    "\n",
    "Check the code below:"
   ]
  },
  {
   "cell_type": "code",
   "execution_count": 9,
   "metadata": {},
   "outputs": [],
   "source": [
    "df_hist = pd.read_csv(\"chap8-historical_data.csv\")\n",
    "df_exp = pd.read_csv(\"chap8-experimental_data.csv\")"
   ]
  },
  {
   "cell_type": "code",
   "execution_count": 10,
   "metadata": {},
   "outputs": [
    {
     "name": "stdout",
     "output_type": "stream",
     "text": [
      "Historical data:\n"
     ]
    },
    {
     "data": {
      "text/html": [
       "<div>\n",
       "<style scoped>\n",
       "    .dataframe tbody tr th:only-of-type {\n",
       "        vertical-align: middle;\n",
       "    }\n",
       "\n",
       "    .dataframe tbody tr th {\n",
       "        vertical-align: top;\n",
       "    }\n",
       "\n",
       "    .dataframe thead th {\n",
       "        text-align: right;\n",
       "    }\n",
       "</style>\n",
       "<table border=\"1\" class=\"dataframe\">\n",
       "  <thead>\n",
       "    <tr style=\"text-align: right;\">\n",
       "      <th></th>\n",
       "      <th>age</th>\n",
       "      <th>gender</th>\n",
       "      <th>period</th>\n",
       "      <th>seasonality</th>\n",
       "      <th>month</th>\n",
       "      <th>booked</th>\n",
       "    </tr>\n",
       "  </thead>\n",
       "  <tbody>\n",
       "    <tr>\n",
       "      <th>0</th>\n",
       "      <td>34</td>\n",
       "      <td>male</td>\n",
       "      <td>1</td>\n",
       "      <td>0.749993</td>\n",
       "      <td>2</td>\n",
       "      <td>0</td>\n",
       "    </tr>\n",
       "    <tr>\n",
       "      <th>1</th>\n",
       "      <td>39</td>\n",
       "      <td>male</td>\n",
       "      <td>1</td>\n",
       "      <td>0.749993</td>\n",
       "      <td>2</td>\n",
       "      <td>0</td>\n",
       "    </tr>\n",
       "    <tr>\n",
       "      <th>2</th>\n",
       "      <td>42</td>\n",
       "      <td>male</td>\n",
       "      <td>1</td>\n",
       "      <td>0.749993</td>\n",
       "      <td>2</td>\n",
       "      <td>0</td>\n",
       "    </tr>\n",
       "    <tr>\n",
       "      <th>3</th>\n",
       "      <td>33</td>\n",
       "      <td>male</td>\n",
       "      <td>1</td>\n",
       "      <td>0.749993</td>\n",
       "      <td>2</td>\n",
       "      <td>0</td>\n",
       "    </tr>\n",
       "    <tr>\n",
       "      <th>4</th>\n",
       "      <td>32</td>\n",
       "      <td>male</td>\n",
       "      <td>1</td>\n",
       "      <td>0.749993</td>\n",
       "      <td>2</td>\n",
       "      <td>1</td>\n",
       "    </tr>\n",
       "    <tr>\n",
       "      <th>...</th>\n",
       "      <td>...</td>\n",
       "      <td>...</td>\n",
       "      <td>...</td>\n",
       "      <td>...</td>\n",
       "      <td>...</td>\n",
       "      <td>...</td>\n",
       "    </tr>\n",
       "    <tr>\n",
       "      <th>319752</th>\n",
       "      <td>47</td>\n",
       "      <td>female</td>\n",
       "      <td>32</td>\n",
       "      <td>0.067111</td>\n",
       "      <td>9</td>\n",
       "      <td>0</td>\n",
       "    </tr>\n",
       "    <tr>\n",
       "      <th>319753</th>\n",
       "      <td>38</td>\n",
       "      <td>female</td>\n",
       "      <td>32</td>\n",
       "      <td>0.067111</td>\n",
       "      <td>9</td>\n",
       "      <td>0</td>\n",
       "    </tr>\n",
       "    <tr>\n",
       "      <th>319754</th>\n",
       "      <td>46</td>\n",
       "      <td>male</td>\n",
       "      <td>32</td>\n",
       "      <td>0.067111</td>\n",
       "      <td>9</td>\n",
       "      <td>0</td>\n",
       "    </tr>\n",
       "    <tr>\n",
       "      <th>319755</th>\n",
       "      <td>47</td>\n",
       "      <td>male</td>\n",
       "      <td>32</td>\n",
       "      <td>0.067111</td>\n",
       "      <td>9</td>\n",
       "      <td>0</td>\n",
       "    </tr>\n",
       "    <tr>\n",
       "      <th>319756</th>\n",
       "      <td>45</td>\n",
       "      <td>male</td>\n",
       "      <td>32</td>\n",
       "      <td>0.067111</td>\n",
       "      <td>9</td>\n",
       "      <td>0</td>\n",
       "    </tr>\n",
       "  </tbody>\n",
       "</table>\n",
       "<p>319757 rows × 6 columns</p>\n",
       "</div>"
      ],
      "text/plain": [
       "        age  gender  period  seasonality  month  booked\n",
       "0        34    male       1     0.749993      2       0\n",
       "1        39    male       1     0.749993      2       0\n",
       "2        42    male       1     0.749993      2       0\n",
       "3        33    male       1     0.749993      2       0\n",
       "4        32    male       1     0.749993      2       1\n",
       "...     ...     ...     ...          ...    ...     ...\n",
       "319752   47  female      32     0.067111      9       0\n",
       "319753   38  female      32     0.067111      9       0\n",
       "319754   46    male      32     0.067111      9       0\n",
       "319755   47    male      32     0.067111      9       0\n",
       "319756   45    male      32     0.067111      9       0\n",
       "\n",
       "[319757 rows x 6 columns]"
      ]
     },
     "metadata": {},
     "output_type": "display_data"
    },
    {
     "name": "stdout",
     "output_type": "stream",
     "text": [
      "There are 319757 rows of data\n"
     ]
    }
   ],
   "source": [
    "df_hist_len = df_hist.shape[0]\n",
    "\n",
    "print(\"Historical data:\")\n",
    "display(df_hist)\n",
    "print(f\"There are {df_hist_len} rows of data\")"
   ]
  },
  {
   "cell_type": "code",
   "execution_count": 11,
   "metadata": {},
   "outputs": [
    {
     "name": "stdout",
     "output_type": "stream",
     "text": [
      "Experiment data:\n"
     ]
    },
    {
     "data": {
      "text/html": [
       "<div>\n",
       "<style scoped>\n",
       "    .dataframe tbody tr th:only-of-type {\n",
       "        vertical-align: middle;\n",
       "    }\n",
       "\n",
       "    .dataframe tbody tr th {\n",
       "        vertical-align: top;\n",
       "    }\n",
       "\n",
       "    .dataframe thead th {\n",
       "        text-align: right;\n",
       "    }\n",
       "</style>\n",
       "<table border=\"1\" class=\"dataframe\">\n",
       "  <thead>\n",
       "    <tr style=\"text-align: right;\">\n",
       "      <th></th>\n",
       "      <th>age</th>\n",
       "      <th>gender</th>\n",
       "      <th>period</th>\n",
       "      <th>seasonality</th>\n",
       "      <th>month</th>\n",
       "      <th>booked</th>\n",
       "      <th>oneclick</th>\n",
       "    </tr>\n",
       "  </thead>\n",
       "  <tbody>\n",
       "    <tr>\n",
       "      <th>0</th>\n",
       "      <td>47</td>\n",
       "      <td>male</td>\n",
       "      <td>33</td>\n",
       "      <td>6.492170e-08</td>\n",
       "      <td>10</td>\n",
       "      <td>0</td>\n",
       "      <td>1</td>\n",
       "    </tr>\n",
       "    <tr>\n",
       "      <th>1</th>\n",
       "      <td>49</td>\n",
       "      <td>male</td>\n",
       "      <td>33</td>\n",
       "      <td>6.492170e-08</td>\n",
       "      <td>10</td>\n",
       "      <td>0</td>\n",
       "      <td>1</td>\n",
       "    </tr>\n",
       "    <tr>\n",
       "      <th>2</th>\n",
       "      <td>37</td>\n",
       "      <td>male</td>\n",
       "      <td>33</td>\n",
       "      <td>6.492170e-08</td>\n",
       "      <td>10</td>\n",
       "      <td>0</td>\n",
       "      <td>0</td>\n",
       "    </tr>\n",
       "    <tr>\n",
       "      <th>3</th>\n",
       "      <td>44</td>\n",
       "      <td>male</td>\n",
       "      <td>33</td>\n",
       "      <td>6.492170e-08</td>\n",
       "      <td>10</td>\n",
       "      <td>0</td>\n",
       "      <td>1</td>\n",
       "    </tr>\n",
       "    <tr>\n",
       "      <th>4</th>\n",
       "      <td>45</td>\n",
       "      <td>male</td>\n",
       "      <td>33</td>\n",
       "      <td>6.492170e-08</td>\n",
       "      <td>10</td>\n",
       "      <td>0</td>\n",
       "      <td>1</td>\n",
       "    </tr>\n",
       "    <tr>\n",
       "      <th>...</th>\n",
       "      <td>...</td>\n",
       "      <td>...</td>\n",
       "      <td>...</td>\n",
       "      <td>...</td>\n",
       "      <td>...</td>\n",
       "      <td>...</td>\n",
       "      <td>...</td>\n",
       "    </tr>\n",
       "    <tr>\n",
       "      <th>40155</th>\n",
       "      <td>38</td>\n",
       "      <td>male</td>\n",
       "      <td>36</td>\n",
       "      <td>4.997220e-01</td>\n",
       "      <td>1</td>\n",
       "      <td>1</td>\n",
       "      <td>1</td>\n",
       "    </tr>\n",
       "    <tr>\n",
       "      <th>40156</th>\n",
       "      <td>34</td>\n",
       "      <td>male</td>\n",
       "      <td>36</td>\n",
       "      <td>4.997220e-01</td>\n",
       "      <td>1</td>\n",
       "      <td>1</td>\n",
       "      <td>0</td>\n",
       "    </tr>\n",
       "    <tr>\n",
       "      <th>40157</th>\n",
       "      <td>28</td>\n",
       "      <td>male</td>\n",
       "      <td>36</td>\n",
       "      <td>4.997220e-01</td>\n",
       "      <td>1</td>\n",
       "      <td>1</td>\n",
       "      <td>1</td>\n",
       "    </tr>\n",
       "    <tr>\n",
       "      <th>40158</th>\n",
       "      <td>36</td>\n",
       "      <td>male</td>\n",
       "      <td>36</td>\n",
       "      <td>4.997220e-01</td>\n",
       "      <td>1</td>\n",
       "      <td>0</td>\n",
       "      <td>0</td>\n",
       "    </tr>\n",
       "    <tr>\n",
       "      <th>40159</th>\n",
       "      <td>39</td>\n",
       "      <td>male</td>\n",
       "      <td>36</td>\n",
       "      <td>4.997220e-01</td>\n",
       "      <td>1</td>\n",
       "      <td>0</td>\n",
       "      <td>0</td>\n",
       "    </tr>\n",
       "  </tbody>\n",
       "</table>\n",
       "<p>40160 rows × 7 columns</p>\n",
       "</div>"
      ],
      "text/plain": [
       "       age gender  period   seasonality  month  booked  oneclick\n",
       "0       47   male      33  6.492170e-08     10       0         1\n",
       "1       49   male      33  6.492170e-08     10       0         1\n",
       "2       37   male      33  6.492170e-08     10       0         0\n",
       "3       44   male      33  6.492170e-08     10       0         1\n",
       "4       45   male      33  6.492170e-08     10       0         1\n",
       "...    ...    ...     ...           ...    ...     ...       ...\n",
       "40155   38   male      36  4.997220e-01      1       1         1\n",
       "40156   34   male      36  4.997220e-01      1       1         0\n",
       "40157   28   male      36  4.997220e-01      1       1         1\n",
       "40158   36   male      36  4.997220e-01      1       0         0\n",
       "40159   39   male      36  4.997220e-01      1       0         0\n",
       "\n",
       "[40160 rows x 7 columns]"
      ]
     },
     "metadata": {},
     "output_type": "display_data"
    },
    {
     "name": "stdout",
     "output_type": "stream",
     "text": [
      "There are 40160 rows of data\n"
     ]
    }
   ],
   "source": [
    "df_exp_len = df_exp.shape[0]\n",
    "\n",
    "print(\"Experiment data:\")\n",
    "display(df_exp)\n",
    "print(f\"There are {df_exp_len} rows of data\")"
   ]
  },
  {
   "cell_type": "markdown",
   "metadata": {},
   "source": [
    "In this data, we're interested to investigate the correlation between **\"oneclick\"** variable to our target variable, **\"booked\"**. We also made a hypothesis that **\"age\"** and **\"gender\"** might affect/influence the path of \"oneclick\" variable to the dependent variable.\n",
    "\n",
    "As our dependent variable is a binary variable, we're going to use one of the Generalized Linear Model, the **logit regression**."
   ]
  },
  {
   "cell_type": "markdown",
   "metadata": {},
   "source": []
  },
  {
   "cell_type": "markdown",
   "metadata": {},
   "source": [
    "## Determining Random Assignment and Sample Size/Power\n",
    "\n",
    "The following step is to decide how we will conduct the random assignment and the amount of the sample size we will require after developing and validating the theory of change for your experiment."
   ]
  },
  {
   "cell_type": "markdown",
   "metadata": {},
   "source": [
    "### Random Assignment\n",
    "\n",
    "Assuming we are not using a program that handles this for us, we can simply do it in Python by the code below:"
   ]
  },
  {
   "cell_type": "code",
   "execution_count": 12,
   "metadata": {},
   "outputs": [],
   "source": [
    "def random_assignment(k):  ## k is the number of groups we want (including control)\n",
    "    ra_assgnt = np.random.uniform(0,1,1)  ## randomize number between 0 and 1 \n",
    "    ra_group = \"control\" if ra_assgnt <= 1/k else \"treatment\"  ## if 'assnt' below 1/K, then it's control, else it's going to fall in 'treatment'\n",
    "    return ra_group"
   ]
  },
  {
   "cell_type": "markdown",
   "metadata": {},
   "source": [
    "Let's say we're going to apply this in our historical data, just for a simulation:"
   ]
  },
  {
   "cell_type": "code",
   "execution_count": 13,
   "metadata": {},
   "outputs": [
    {
     "data": {
      "text/html": [
       "<div>\n",
       "<style scoped>\n",
       "    .dataframe tbody tr th:only-of-type {\n",
       "        vertical-align: middle;\n",
       "    }\n",
       "\n",
       "    .dataframe tbody tr th {\n",
       "        vertical-align: top;\n",
       "    }\n",
       "\n",
       "    .dataframe thead th {\n",
       "        text-align: right;\n",
       "    }\n",
       "</style>\n",
       "<table border=\"1\" class=\"dataframe\">\n",
       "  <thead>\n",
       "    <tr style=\"text-align: right;\">\n",
       "      <th></th>\n",
       "      <th>age</th>\n",
       "      <th>gender</th>\n",
       "      <th>period</th>\n",
       "      <th>seasonality</th>\n",
       "      <th>month</th>\n",
       "      <th>booked</th>\n",
       "      <th>group</th>\n",
       "    </tr>\n",
       "  </thead>\n",
       "  <tbody>\n",
       "    <tr>\n",
       "      <th>0</th>\n",
       "      <td>34</td>\n",
       "      <td>male</td>\n",
       "      <td>1</td>\n",
       "      <td>0.749993</td>\n",
       "      <td>2</td>\n",
       "      <td>0</td>\n",
       "      <td>control</td>\n",
       "    </tr>\n",
       "    <tr>\n",
       "      <th>1</th>\n",
       "      <td>39</td>\n",
       "      <td>male</td>\n",
       "      <td>1</td>\n",
       "      <td>0.749993</td>\n",
       "      <td>2</td>\n",
       "      <td>0</td>\n",
       "      <td>control</td>\n",
       "    </tr>\n",
       "    <tr>\n",
       "      <th>2</th>\n",
       "      <td>42</td>\n",
       "      <td>male</td>\n",
       "      <td>1</td>\n",
       "      <td>0.749993</td>\n",
       "      <td>2</td>\n",
       "      <td>0</td>\n",
       "      <td>treatment</td>\n",
       "    </tr>\n",
       "    <tr>\n",
       "      <th>3</th>\n",
       "      <td>33</td>\n",
       "      <td>male</td>\n",
       "      <td>1</td>\n",
       "      <td>0.749993</td>\n",
       "      <td>2</td>\n",
       "      <td>0</td>\n",
       "      <td>control</td>\n",
       "    </tr>\n",
       "    <tr>\n",
       "      <th>4</th>\n",
       "      <td>32</td>\n",
       "      <td>male</td>\n",
       "      <td>1</td>\n",
       "      <td>0.749993</td>\n",
       "      <td>2</td>\n",
       "      <td>1</td>\n",
       "      <td>control</td>\n",
       "    </tr>\n",
       "    <tr>\n",
       "      <th>...</th>\n",
       "      <td>...</td>\n",
       "      <td>...</td>\n",
       "      <td>...</td>\n",
       "      <td>...</td>\n",
       "      <td>...</td>\n",
       "      <td>...</td>\n",
       "      <td>...</td>\n",
       "    </tr>\n",
       "    <tr>\n",
       "      <th>319752</th>\n",
       "      <td>47</td>\n",
       "      <td>female</td>\n",
       "      <td>32</td>\n",
       "      <td>0.067111</td>\n",
       "      <td>9</td>\n",
       "      <td>0</td>\n",
       "      <td>control</td>\n",
       "    </tr>\n",
       "    <tr>\n",
       "      <th>319753</th>\n",
       "      <td>38</td>\n",
       "      <td>female</td>\n",
       "      <td>32</td>\n",
       "      <td>0.067111</td>\n",
       "      <td>9</td>\n",
       "      <td>0</td>\n",
       "      <td>treatment</td>\n",
       "    </tr>\n",
       "    <tr>\n",
       "      <th>319754</th>\n",
       "      <td>46</td>\n",
       "      <td>male</td>\n",
       "      <td>32</td>\n",
       "      <td>0.067111</td>\n",
       "      <td>9</td>\n",
       "      <td>0</td>\n",
       "      <td>treatment</td>\n",
       "    </tr>\n",
       "    <tr>\n",
       "      <th>319755</th>\n",
       "      <td>47</td>\n",
       "      <td>male</td>\n",
       "      <td>32</td>\n",
       "      <td>0.067111</td>\n",
       "      <td>9</td>\n",
       "      <td>0</td>\n",
       "      <td>control</td>\n",
       "    </tr>\n",
       "    <tr>\n",
       "      <th>319756</th>\n",
       "      <td>45</td>\n",
       "      <td>male</td>\n",
       "      <td>32</td>\n",
       "      <td>0.067111</td>\n",
       "      <td>9</td>\n",
       "      <td>0</td>\n",
       "      <td>treatment</td>\n",
       "    </tr>\n",
       "  </tbody>\n",
       "</table>\n",
       "<p>319757 rows × 7 columns</p>\n",
       "</div>"
      ],
      "text/plain": [
       "        age  gender  period  seasonality  month  booked      group\n",
       "0        34    male       1     0.749993      2       0    control\n",
       "1        39    male       1     0.749993      2       0    control\n",
       "2        42    male       1     0.749993      2       0  treatment\n",
       "3        33    male       1     0.749993      2       0    control\n",
       "4        32    male       1     0.749993      2       1    control\n",
       "...     ...     ...     ...          ...    ...     ...        ...\n",
       "319752   47  female      32     0.067111      9       0    control\n",
       "319753   38  female      32     0.067111      9       0  treatment\n",
       "319754   46    male      32     0.067111      9       0  treatment\n",
       "319755   47    male      32     0.067111      9       0    control\n",
       "319756   45    male      32     0.067111      9       0  treatment\n",
       "\n",
       "[319757 rows x 7 columns]"
      ]
     },
     "execution_count": 13,
     "metadata": {},
     "output_type": "execute_result"
    }
   ],
   "source": [
    "df_hist_sim = df_hist  # create dataframe for simulation\n",
    "\n",
    "for i in range(len(df_hist_sim)):  \n",
    "    df_hist_sim.loc[i, 'group'] = random_assignment(2)  # call the random assignment function from previous code\n",
    "\n",
    "df_hist_sim"
   ]
  },
  {
   "cell_type": "markdown",
   "metadata": {},
   "source": [
    "### Sample Size and Power Analysis (Traditional Approach)\n",
    "\n",
    "After we define on how to randomize the population, we need to determine our sample size for the experiment. Power Analysis is the method that statisticians have created to determine the necessary sample size for particular statistical tests. We're going to use that for this analysis.\n",
    "\n",
    "Let's say that the CEO would like to know the effect size of 1%. It would translate into an expected booking rate for our treatment group of 19.5% from of 18.5% in accordance with our previous data. We set **power = 0.8** and **statistical significance = 0.05** for the parameters' standard values."
   ]
  },
  {
   "cell_type": "code",
   "execution_count": 14,
   "metadata": {},
   "outputs": [
    {
     "name": "stdout",
     "output_type": "stream",
     "text": [
      "The sample size needed with defined parameter is 18950.818821249803\n"
     ]
    }
   ],
   "source": [
    "effect_size = ssprop.proportion_effectsize(0.194, 0.184)  ## to calculate 1% of effect size using\n",
    "sample_size = ssp.tt_ind_solve_power(effect_size=effect_size, \n",
    "                                     alpha=0.05, \n",
    "                                     nobs1=None,  # value that we're looking for, set to none\n",
    "                                     alternative='larger',  ## set to one-tailed test as we don't care the negative or positive area\n",
    "                                     power=0.8)\n",
    "\n",
    "print(f\"The sample size needed with defined parameter is {sample_size}\")"
   ]
  },
  {
   "cell_type": "markdown",
   "metadata": {},
   "source": [
    "We got the sample size around 19,000 sample per group, ceiling rounded. What does this mean?\n",
    "\n",
    "- Let's say, we conducted a substantial number of tests with a total sample size of 38,000.\n",
    "- In each scenario, if the statistics from the proportions test had a p-value less than 0.05, we would implement the 1-click button.\n",
    "- The true effect in each of these experiments is 1%."
   ]
  },
  {
   "cell_type": "markdown",
   "metadata": {},
   "source": [
    "### Power Analysis without Statistics: Bootstrap Simulations\n",
    "\n",
    "Our decision rule does not use p-values in Bootstrap simulations. Instead, we apply the treatment if the **Confidence Interval** calculated using the Bootstrap method for the coefficient of interest is greater than a predetermined threshold, often zero. \n",
    "\n",
    "We're going first by writing the analysis code, then go through for the simulation"
   ]
  },
  {
   "cell_type": "markdown",
   "metadata": {},
   "source": [
    "#### Bootstrap Analysis Code\n",
    "\n",
    "The analysis model that we're going to make is based on 3 functions."
   ]
  },
  {
   "cell_type": "code",
   "execution_count": 15,
   "metadata": {},
   "outputs": [],
   "source": [
    "def log_reg_fn(formula, df, treatment_var):\n",
    "    '''\n",
    "    formula: write the formula with apostrophe\n",
    "    df: input the data frame here\n",
    "    treatment_var: the variable of interest we're investigating\n",
    "    '''\n",
    "    model = smf.logit(formula=formula, data=df)\n",
    "    res = model.fit(disp=0)\n",
    "    coeff = res.params[treatment_var]  # to generate the coefficient of oneclick\n",
    "    return coeff"
   ]
  },
  {
   "cell_type": "code",
   "execution_count": 16,
   "metadata": {},
   "outputs": [
    {
     "data": {
      "text/plain": [
       "0.15784070750120138"
      ]
     },
     "execution_count": 16,
     "metadata": {},
     "output_type": "execute_result"
    }
   ],
   "source": [
    "# testing whether the function works or not\n",
    "log_reg_fn(formula='booked ~ oneclick + age + gender', df=df_exp, treatment_var='oneclick')  "
   ]
  },
  {
   "cell_type": "markdown",
   "metadata": {},
   "source": [
    "After building the function, we can build the bootstrap function for the logit model. "
   ]
  },
  {
   "cell_type": "code",
   "execution_count": 17,
   "metadata": {},
   "outputs": [],
   "source": [
    "def boot_ci_fn(df, b, conf_level): \n",
    "    '''\n",
    "    df: data frame used for bootstrapping\n",
    "    b: number of bootstrap samples\n",
    "    conf_level: the confident level of the bootstrap\n",
    "    '''\n",
    "    n = len(df)\n",
    "    coeffs = []\n",
    "    \n",
    "    for i in range(b):\n",
    "        df_sim_boot = df.sample(n=n, replace=True)\n",
    "        coeff = log_reg_fn(formula='booked ~ oneclick + age + gender', df=df_sim_boot, treatment_var='oneclick')\n",
    "        coeffs.append(coeff)  ## all list method, it automatically does the inplace, no need to call the variable again\n",
    "    \n",
    "    coeffs.sort()  \n",
    "    start_idx = round(b * (1-conf_level) / 2)  # upper bound for confidence interval\n",
    "    end_idx = - round(b * (1-conf_level) / 2)  # lower bound for confidence interval\n",
    "    conf_int = [coeffs[start_idx], coeffs[end_idx]]  # the coefficient value in the bound\n",
    "    return(conf_int)"
   ]
  },
  {
   "cell_type": "code",
   "execution_count": 18,
   "metadata": {},
   "outputs": [
    {
     "name": "stdout",
     "output_type": "stream",
     "text": [
      "CPU times: user 24.9 s, sys: 1.94 s, total: 26.9 s\n",
      "Wall time: 19.2 s\n"
     ]
    },
    {
     "data": {
      "text/plain": [
       "[0.07675430217761259, 0.22846357661912722]"
      ]
     },
     "execution_count": 18,
     "metadata": {},
     "output_type": "execute_result"
    }
   ],
   "source": [
    "%%time\n",
    "# testing whether the function works or not\n",
    "# this code is going to run longer, based on the bootstrap sample\n",
    "boot_ci_fn(df=df_exp, b=100, conf_level=0.9) "
   ]
  },
  {
   "cell_type": "markdown",
   "metadata": {},
   "source": [
    "Then, for the final, we built the function for the final decision from all of the two previous functions."
   ]
  },
  {
   "cell_type": "code",
   "execution_count": 19,
   "metadata": {},
   "outputs": [],
   "source": [
    "def decision_fn(df, b, conf_level): \n",
    "    '''\n",
    "    df: data frame used for bootstrapping\n",
    "    b: number of bootstrap samples\n",
    "    conf_level: the confident level of the bootstrap\n",
    "    '''\n",
    "    boot_ci = boot_ci_fn(df, b, conf_level)\n",
    "    \n",
    "    if boot_ci[0] > 0:\n",
    "        decision = 1\n",
    "        interpret = print(\"Lower bound is \" + str(boot_ci[0]) + \", which is higher than 0. We can confidently apply this treatment.\")\n",
    "    else:\n",
    "        decision = 0\n",
    "        interpret = print(\"Lower bound is \" + str(boot_ci[0]) + \", which is lower than 0. Do not apply this treatment.\")\n",
    "    return decision, interpret"
   ]
  },
  {
   "cell_type": "markdown",
   "metadata": {},
   "source": [
    "We're done with all of the function building. Let's try the \"decision_fn\" function with **100 bootstrap sample** and **confidence level at 90%** with the code below:"
   ]
  },
  {
   "cell_type": "code",
   "execution_count": 20,
   "metadata": {},
   "outputs": [
    {
     "name": "stdout",
     "output_type": "stream",
     "text": [
      "Lower bound is 0.09634743452008217, which is higher than 0. We can confidently apply this treatment.\n",
      "None\n",
      "CPU times: user 1.2 s, sys: 90 ms, total: 1.29 s\n",
      "Wall time: 982 ms\n"
     ]
    }
   ],
   "source": [
    "%%time\n",
    "# this code is going to run longer, based on the bootstrap sample\n",
    "decision, interpret = decision_fn(df=df_exp, b=5, conf_level=0.9)\n",
    "print(interpret)"
   ]
  },
  {
   "cell_type": "markdown",
   "metadata": {},
   "source": [
    "#### Power Simulations\n",
    "\n",
    "After we built the analysis, we'll create the function that will execute a single simulation first. In this simulation, we're going to use the previous model to calculate power size using the bootstrap simulation. For this one, we will use the experiment data that we use before to calculate the power and effect size from several scenarios of bootstrap simulation. This is how the code functions:"
   ]
  },
  {
   "cell_type": "code",
   "execution_count": 21,
   "metadata": {},
   "outputs": [],
   "source": [
    "def single_sim_fn(Nexp, df, eff_size, b, conf_level):\n",
    "     '''\n",
    "     Nexp: number of sample replicated from the original data to be analyzed\n",
    "     df: Data frame we're going to use\n",
    "     eff_size: Effect size, well it depends on what is your measurement\n",
    "     b: number of bootstrap samples\n",
    "     conf_level: the confident level of the bootstrap\n",
    "     '''\n",
    "     # adding predicted probability of booking\n",
    "     model = smf.logit('booked ~ oneclick + age + gender', data = df_exp)  # change the formula based on your need\n",
    "     res = model.fit(disp=0)\n",
    "     df_sim_exp = df.copy()\n",
    "     df_sim_exp['pred_prob_bkg'] = res.predict(df_sim_exp)\n",
    "    \n",
    "     # filtering down to desired sample size\n",
    "     df_sim_exp = df_sim_exp.sample(Nexp)\n",
    "    \n",
    "     # random assignment of experimental groups\n",
    "     k = 2  # number of group treatment, including the control\n",
    "     df_sim_exp['oneclick'] = np.where(np.random.uniform(size=Nexp) <= 1/k, 0, 1)  # adding effect to treatment group\n",
    "     df_sim_exp['pred_prob_bkg'] = np.where(df_sim_exp.oneclick == 1,\n",
    "                                           df_sim_exp.pred_prob_bkg + eff_size,\n",
    "                                           df_sim_exp.pred_prob_bkg)\n",
    "     df_sim_exp['booked'] = np.where(df_sim_exp.pred_prob_bkg >= np.random.uniform(size=Nexp), 1, 0)\n",
    "     decision, interpret = decision_fn(df_sim_exp, b = b, conf_level = conf_level)  # unpack the decision, just taking the decision number\n",
    "     return decision"
   ]
  },
  {
   "cell_type": "markdown",
   "metadata": {},
   "source": [
    "The power function can then be written for a specific effect size and sample size. This function generates experimental data sets periodically and then applies our decision function to them, returning the proportion of them for which we would activate the button:"
   ]
  },
  {
   "cell_type": "code",
   "execution_count": 22,
   "metadata": {},
   "outputs": [],
   "source": [
    "def power_sim_fn(Nexp, df, eff_size, b, conf_level, Nsim):  # adding Nsim for how many data sets should we simulate\n",
    "    '''\n",
    "    Nexp: number of sample replicated from the original data to be analyzed\n",
    "    df: Data frame we're going to use\n",
    "    eff_size: Effect size, well it depends on what is your measurement\n",
    "    b: number of bootstrap samples\n",
    "    conf_level: the confident level of the bootstrap\n",
    "    Nsim: Number of how many times this function do the bootstrap simulation\n",
    "    '''\n",
    "    power_lst = []\n",
    "    \n",
    "    for i in range(Nsim):\n",
    "        print(\"starting simulation number\", i, \"\\n\") \n",
    "        power_lst.append(single_sim_fn(Nexp = Nexp, df = df,\n",
    "                                       eff_size = eff_size, b = b,\n",
    "                                       conf_level = conf_level))\n",
    "    power = np.mean(power_lst)\n",
    "    return power"
   ]
  },
  {
   "cell_type": "markdown",
   "metadata": {},
   "source": [
    "After building the functions, we can try to run the Power simulation using the bootstrap method using the code below:"
   ]
  },
  {
   "cell_type": "code",
   "execution_count": 23,
   "metadata": {},
   "outputs": [
    {
     "name": "stdout",
     "output_type": "stream",
     "text": [
      "starting simulation number 0 \n",
      "\n",
      "Lower bound is 0.23865449643772005, which is higher than 0. We can confidently apply this treatment.\n",
      "starting simulation number 1 \n",
      "\n",
      "Lower bound is 0.21533171693458744, which is higher than 0. We can confidently apply this treatment.\n",
      "starting simulation number 2 \n",
      "\n",
      "Lower bound is 0.19761820754850687, which is higher than 0. We can confidently apply this treatment.\n",
      "starting simulation number 3 \n",
      "\n",
      "Lower bound is 0.22587601134967938, which is higher than 0. We can confidently apply this treatment.\n",
      "starting simulation number 4 \n",
      "\n",
      "Lower bound is 0.14064304462835697, which is higher than 0. We can confidently apply this treatment.\n",
      "CPU times: user 7.67 s, sys: 547 ms, total: 8.22 s\n",
      "Wall time: 6.73 s\n"
     ]
    },
    {
     "data": {
      "text/plain": [
       "1.0"
      ]
     },
     "execution_count": 23,
     "metadata": {},
     "output_type": "execute_result"
    }
   ],
   "source": [
    "%%time\n",
    "# this code is going to run longer, based on the bootstrap sample and number of the simulation\n",
    "# as for example, we will go with 5 bootstrap and N size to make the code goes faster\n",
    "power_sim_fn(df=df_exp, Nexp = 40000, eff_size=0.01, b=5, conf_level=0.9, Nsim=5)"
   ]
  },
  {
   "cell_type": "markdown",
   "metadata": {},
   "source": []
  },
  {
   "cell_type": "markdown",
   "metadata": {},
   "source": [
    "## Analyzing and Interpreting Experimental Results\n",
    "\n",
    "We can analyze the results after doing the experiment and gathering the necessary information. The final analyses itself ought to be simple after all the simulated analyses you performed for the power estimation. There are two steps on how to analyze and interpret our result:\n",
    "\n",
    "1. Run the logistic regression for the coefficient\n",
    "2. Use the Bootstrap CI method instead of the p-value as the decision tool for significance value\n",
    "\n",
    "However, in this analysis, there are two things that we have to be really careful that We cannot interpret the coefficient from logistic regression directly. To overcome this, there are two methods that we can employ.\n",
    "\n",
    "1. Run comparsion between predicted value of the splitted data: one where the variable for the one-click button is set to 1, and to 0 in the other.\n",
    "2. Using exponential value of the coefficient, and calculate the probability from there."
   ]
  },
  {
   "cell_type": "code",
   "execution_count": 24,
   "metadata": {},
   "outputs": [
    {
     "name": "stdout",
     "output_type": "stream",
     "text": [
      "Optimization terminated successfully.\n",
      "         Current function value: 0.161220\n",
      "         Iterations 9\n"
     ]
    },
    {
     "data": {
      "text/html": [
       "<table class=\"simpletable\">\n",
       "<caption>Logit Regression Results</caption>\n",
       "<tr>\n",
       "  <th>Dep. Variable:</th>        <td>booked</td>      <th>  No. Observations:  </th>  <td> 40160</td> \n",
       "</tr>\n",
       "<tr>\n",
       "  <th>Model:</th>                 <td>Logit</td>      <th>  Df Residuals:      </th>  <td> 40156</td> \n",
       "</tr>\n",
       "<tr>\n",
       "  <th>Method:</th>                 <td>MLE</td>       <th>  Df Model:          </th>  <td>     3</td> \n",
       "</tr>\n",
       "<tr>\n",
       "  <th>Date:</th>            <td>Fri, 16 Sep 2022</td> <th>  Pseudo R-squ.:     </th>  <td>0.3311</td> \n",
       "</tr>\n",
       "<tr>\n",
       "  <th>Time:</th>                <td>17:47:01</td>     <th>  Log-Likelihood:    </th> <td> -6474.6</td>\n",
       "</tr>\n",
       "<tr>\n",
       "  <th>converged:</th>             <td>True</td>       <th>  LL-Null:           </th> <td> -9679.1</td>\n",
       "</tr>\n",
       "<tr>\n",
       "  <th>Covariance Type:</th>     <td>nonrobust</td>    <th>  LLR p-value:       </th>  <td> 0.000</td> \n",
       "</tr>\n",
       "</table>\n",
       "<table class=\"simpletable\">\n",
       "<tr>\n",
       "         <td></td>           <th>coef</th>     <th>std err</th>      <th>z</th>      <th>P>|z|</th>  <th>[0.025</th>    <th>0.975]</th>  \n",
       "</tr>\n",
       "<tr>\n",
       "  <th>Intercept</th>      <td>   11.6928</td> <td>    0.226</td> <td>   51.819</td> <td> 0.000</td> <td>   11.251</td> <td>   12.135</td>\n",
       "</tr>\n",
       "<tr>\n",
       "  <th>gender[T.male]</th> <td>    0.2542</td> <td>    0.049</td> <td>    5.182</td> <td> 0.000</td> <td>    0.158</td> <td>    0.350</td>\n",
       "</tr>\n",
       "<tr>\n",
       "  <th>oneclick</th>       <td>    0.1578</td> <td>    0.047</td> <td>    3.357</td> <td> 0.001</td> <td>    0.066</td> <td>    0.250</td>\n",
       "</tr>\n",
       "<tr>\n",
       "  <th>age</th>            <td>   -0.3941</td> <td>    0.006</td> <td>  -61.282</td> <td> 0.000</td> <td>   -0.407</td> <td>   -0.381</td>\n",
       "</tr>\n",
       "</table>"
      ],
      "text/plain": [
       "<class 'statsmodels.iolib.summary.Summary'>\n",
       "\"\"\"\n",
       "                           Logit Regression Results                           \n",
       "==============================================================================\n",
       "Dep. Variable:                 booked   No. Observations:                40160\n",
       "Model:                          Logit   Df Residuals:                    40156\n",
       "Method:                           MLE   Df Model:                            3\n",
       "Date:                Fri, 16 Sep 2022   Pseudo R-squ.:                  0.3311\n",
       "Time:                        17:47:01   Log-Likelihood:                -6474.6\n",
       "converged:                       True   LL-Null:                       -9679.1\n",
       "Covariance Type:            nonrobust   LLR p-value:                     0.000\n",
       "==================================================================================\n",
       "                     coef    std err          z      P>|z|      [0.025      0.975]\n",
       "----------------------------------------------------------------------------------\n",
       "Intercept         11.6928      0.226     51.819      0.000      11.251      12.135\n",
       "gender[T.male]     0.2542      0.049      5.182      0.000       0.158       0.350\n",
       "oneclick           0.1578      0.047      3.357      0.001       0.066       0.250\n",
       "age               -0.3941      0.006    -61.282      0.000      -0.407      -0.381\n",
       "==================================================================================\n",
       "\"\"\""
      ]
     },
     "execution_count": 24,
     "metadata": {},
     "output_type": "execute_result"
    }
   ],
   "source": [
    "# look for the traditional coefficient from the logit regression\n",
    "\n",
    "model = smf.logit('booked ~ oneclick + age + gender', data=df_exp)\n",
    "res = model.fit()\n",
    "res.summary()"
   ]
  },
  {
   "cell_type": "code",
   "execution_count": 25,
   "metadata": {},
   "outputs": [
    {
     "data": {
      "text/plain": [
       "[0.09033995134756835, 0.23665123699661353]"
      ]
     },
     "execution_count": 25,
     "metadata": {},
     "output_type": "execute_result"
    }
   ],
   "source": [
    "# calling the previous bootstrap CI function\n",
    "boot_ci_fn(df=df_exp, b=100, conf_level=0.9)"
   ]
  },
  {
   "cell_type": "markdown",
   "metadata": {},
   "source": [
    "With one-click coefficient is equal to 0.1578 and the the CI are above 0, we can say that the **one-click treatment significantly improves the booking rate**. However, as explained before, we can't directly interpret the coefficient. Thus, we're going to use the two methods."
   ]
  },
  {
   "cell_type": "markdown",
   "metadata": {},
   "source": [
    "#### Predicted Value Comparison\n",
    "\n",
    "The idea in here is straight-forward. We create two copies of the experimental data, one with everyone's variable for the one-click button set to 1, and the other with their variable set to 0. We can determine a \"average\" effect that is fairly similar to the effect you would see if applying the treatment to everyone by comparing the likelihood of booking predicted by our logistic model for these two data sets. It's not scientific, but more understandable."
   ]
  },
  {
   "cell_type": "code",
   "execution_count": 26,
   "metadata": {},
   "outputs": [],
   "source": [
    "df_exp['pred_bkg_rate'] = res.predict(df_exp)"
   ]
  },
  {
   "cell_type": "code",
   "execution_count": 27,
   "metadata": {},
   "outputs": [
    {
     "data": {
      "text/plain": [
       "0.0033712623850794127"
      ]
     },
     "execution_count": 27,
     "metadata": {},
     "output_type": "execute_result"
    }
   ],
   "source": [
    "def diff_prob_fn(df, model_reg):\n",
    "    # adding prediction to the model\n",
    "    df_pred = df\n",
    "    df_pred['pred_bkg_rate'] = res.predict(df_pred)\n",
    "    \n",
    "    # creating new copies for the data\n",
    "    df_button = df_pred[df_pred['oneclick'] == 1]\n",
    "    df_no_button = df_pred[df_pred['oneclick'] == 0]\n",
    "    \n",
    "    # calculate the mean different between predicted value of both treatments\n",
    "    diff = df_button['pred_bkg_rate'].mean() - df_no_button['pred_bkg_rate'].mean()\n",
    "    return diff\n",
    "\n",
    "# in the book refer to p.200, i found that the code is quite weird:\n",
    "# diff = button_df.loc[:,'pred_bkg_rate'] - no_button_df.loc[:,'pred_bkg_rate'] return diff.mean()\n",
    "# diff_prob_fun(exp_data_df, reg_model = log_mod_exp)\n",
    "# the code above is not applicable as the length between these two data frames is different\n",
    "\n",
    "diff_prob_fn(df=df_exp, model_reg=model)  # the result is different, but close marginally\n"
   ]
  },
  {
   "cell_type": "markdown",
   "metadata": {},
   "source": [
    "Let's now calculate the coefficient using odds ratio method and compare the coefficient between two of them."
   ]
  },
  {
   "cell_type": "markdown",
   "metadata": {},
   "source": [
    "#### Odds Ratio\n",
    "\n",
    "This one requires you to have a basic understanding about exponential. But to make it simpler, we are going to use the odds ratio from exponential value of our coefficient."
   ]
  },
  {
   "cell_type": "code",
   "execution_count": 28,
   "metadata": {},
   "outputs": [
    {
     "name": "stdout",
     "output_type": "stream",
     "text": [
      "Using the comparison method, the treatment increase the booking rate by 0.003.\n",
      "Using the odds ratio method, the treatment increase the booking rate by 0.171.\n"
     ]
    }
   ],
   "source": [
    "true_coeff_comp = round(diff_prob_fn(df=df_exp, model_reg=model), 3)\n",
    "true_coeff_odds = round((math.exp(res.params['oneclick']) - 1), 3)\n",
    "\n",
    "print(f\"Using the comparison method, the treatment increase the booking rate by {true_coeff_comp}.\")\n",
    "print(f\"Using the odds ratio method, the treatment increase the booking rate by {true_coeff_odds}.\")"
   ]
  },
  {
   "cell_type": "markdown",
   "metadata": {},
   "source": []
  },
  {
   "cell_type": "markdown",
   "metadata": {},
   "source": [
    "## Conclusion\n",
    "\n",
    "In this notebook, it shows how to do the randomization of the sample, power effect simulation, and the analysis itself after we collect the data of the experiment. We can reproduce this notebook for other calculations, not only logistic regression that is shown in this notebook. With a little bit modification, we can use the other models from the regression.\n",
    "\n",
    "Using the Bootstrap-CI 90% and the bootstrap size of 100 times, we know that the one-click treatment significantly increases the booking rate of the hotel. When we're trying to interpret the coefficient, there's a big different between value between the predicted value and odds ratio method. As a safe railguard, we're going to use the odds ratio method. Thus, th**e one-click treatment significantly increases the booking rate by 17%.**\n",
    "\n"
   ]
  }
 ],
 "metadata": {
  "kernelspec": {
   "display_name": "Python 3.9.12 64-bit",
   "language": "python",
   "name": "python3"
  },
  "language_info": {
   "codemirror_mode": {
    "name": "ipython",
    "version": 3
   },
   "file_extension": ".py",
   "mimetype": "text/x-python",
   "name": "python",
   "nbconvert_exporter": "python",
   "pygments_lexer": "ipython3",
   "version": "3.9.12"
  },
  "orig_nbformat": 4,
  "vscode": {
   "interpreter": {
    "hash": "aee8b7b246df8f9039afb4144a1f6fd8d2ca17a180786b69acc140d282b71a49"
   }
  }
 },
 "nbformat": 4,
 "nbformat_minor": 2
}
